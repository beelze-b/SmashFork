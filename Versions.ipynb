{
 "cells": [
  {
   "cell_type": "code",
   "execution_count": 11,
   "metadata": {},
   "outputs": [],
   "source": [
    "import shap\n",
    "import matplotlib\n",
    "import numpy as np\n",
    "import scanpy as sc\n",
    "import pandas as pd\n",
    "import seaborn as sns\n",
    "import tensorflow as tf\n",
    "\n",
    "import sklearn\n",
    "import xgboost \n",
    "import keras\n",
    "import imblearn"
   ]
  },
  {
   "cell_type": "code",
   "execution_count": 14,
   "metadata": {},
   "outputs": [
    {
     "name": "stdout",
     "output_type": "stream",
     "text": [
      "shap v: 0.37.0\n",
      "matplotlib v: 3.3.2\n",
      "numpy v: 1.19.2\n",
      "scanpy v: 1.6.0\n",
      "pandas v: 0.25.2\n",
      "seaborn v: 0.11.0\n",
      "tensorflow v: 2.4.1\n",
      "sklearn v: 0.23.1\n",
      "xgboost v: 1.3.3\n",
      "keras v: 2.4.3\n",
      "imblearn v: 0.7.0\n"
     ]
    }
   ],
   "source": [
    "print('shap v:', shap.__version__)\n",
    "print('matplotlib v:', matplotlib.__version__)\n",
    "print('numpy v:', np.__version__)\n",
    "print('scanpy v:', sc.__version__)\n",
    "print('pandas v:', pd.__version__)\n",
    "print('seaborn v:', sns.__version__)\n",
    "print('tensorflow v:', tf.__version__)\n",
    "\n",
    "print('sklearn v:', sklearn.__version__)\n",
    "print('xgboost v:', xgboost.__version__)\n",
    "print('keras v:', keras.__version__)\n",
    "print('imblearn v:', imblearn.__version__)\n"
   ]
  }
 ],
 "metadata": {
  "kernelspec": {
   "display_name": "Python 3",
   "language": "python",
   "name": "python3"
  },
  "language_info": {
   "codemirror_mode": {
    "name": "ipython",
    "version": 3
   },
   "file_extension": ".py",
   "mimetype": "text/x-python",
   "name": "python",
   "nbconvert_exporter": "python",
   "pygments_lexer": "ipython3",
   "version": "3.8.5"
  }
 },
 "nbformat": 4,
 "nbformat_minor": 4
}
