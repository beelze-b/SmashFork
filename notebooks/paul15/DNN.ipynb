{
 "cells": [
  {
   "cell_type": "code",
   "execution_count": null,
   "metadata": {},
   "outputs": [],
   "source": [
    "import warnings\n",
    "warnings.filterwarnings(\"ignore\")"
   ]
  },
  {
   "cell_type": "code",
   "execution_count": null,
   "metadata": {},
   "outputs": [],
   "source": [
    "from IPython.core.display import display, HTML\n",
    "display(HTML(\"<style>.container {width: 80% !important; }</style>\"))"
   ]
  },
  {
   "cell_type": "code",
   "execution_count": 1,
   "metadata": {},
   "outputs": [],
   "source": [
    "import sys\n",
    "import time\n",
    "import scanpy as sc\n",
    "import numpy as np\n",
    "import pandas as pd\n",
    "import matplotlib.pyplot as plt\n",
    "import seaborn as sns\n",
    "import matplotlib\n",
    "from matplotlib import colors"
   ]
  },
  {
   "cell_type": "code",
   "execution_count": null,
   "metadata": {},
   "outputs": [],
   "source": [
    "myColors = ['#e6194b', '#3cb44b', '#ffe119', '#4363d8', '#f58231',\n",
    "            '#911eb4', '#46f0f0', '#f032e6', '#bcf60c', '#fabebe',\n",
    "            '#008080', '#e6beff', '#9a6324', '#fffac8', '#800000',\n",
    "            '#aaffc3', '#808000', '#ffd8b1', '#000075', '#808080', \n",
    "            '#307D7E', '#000000', \"#DDEFFF\", \"#000035\", \"#7B4F4B\", \n",
    "            \"#A1C299\", \"#300018\", \"#C2FF99\", \"#0AA6D8\", \"#013349\", \n",
    "            \"#00846F\", \"#8CD0FF\", \"#3B9700\", \"#04F757\", \"#C8A1A1\", \n",
    "            \"#1E6E00\", \"#DFFB71\", \"#868E7E\", \"#513A01\", \"#CCAA35\"]\n",
    "\n",
    "colors2 = plt.cm.Reds(np.linspace(0, 1, 128))\n",
    "colors3 = plt.cm.Greys_r(np.linspace(0.7,0.8,20))\n",
    "colorsComb = np.vstack([colors3, colors2])\n",
    "mymap = colors.LinearSegmentedColormap.from_list('my_colormap', colorsComb)"
   ]
  },
  {
   "cell_type": "code",
   "execution_count": 2,
   "metadata": {},
   "outputs": [
    {
     "name": "stdout",
     "output_type": "stream",
     "text": [
      " * Initialising ...\n",
      "WARNING:tensorflow:From ../../SMaSH/SMaSH.py:70: The name tf.keras.backend.set_session is deprecated. Please use tf.compat.v1.keras.backend.set_session instead.\n",
      "\n"
     ]
    },
    {
     "data": {
      "text/html": [
       "        <script type=\"text/javascript\">\n",
       "        window.PlotlyConfig = {MathJaxConfig: 'local'};\n",
       "        if (window.MathJax) {MathJax.Hub.Config({SVG: {font: \"STIX-Web\"}});}\n",
       "        if (typeof require !== 'undefined') {\n",
       "        require.undef(\"plotly\");\n",
       "        requirejs.config({\n",
       "            paths: {\n",
       "                'plotly': ['https://cdn.plot.ly/plotly-latest.min']\n",
       "            }\n",
       "        });\n",
       "        require(['plotly'], function(Plotly) {\n",
       "            window._Plotly = Plotly;\n",
       "        });\n",
       "        }\n",
       "        </script>\n",
       "        "
      ]
     },
     "metadata": {},
     "output_type": "display_data"
    }
   ],
   "source": [
    "sys.path.append(\"../../\")\n",
    "from SMaSH import SMaSH\n",
    "\n",
    "sm = SMaSH()"
   ]
  },
  {
   "cell_type": "code",
   "execution_count": 5,
   "metadata": {},
   "outputs": [
    {
     "name": "stdout",
     "output_type": "stream",
     "text": [
      "Help on method remove_features_pct in module SMaSH.SMaSH:\n",
      "\n",
      "remove_features_pct(adata, group_by=None, pct=0.3) method of SMaSH.SMaSH.SMaSH instance\n",
      "    Removing ... from AnnData object.\n",
      "    \n",
      "    Parameters\n",
      "    ----------\n",
      "    adata : anndata.AnnData\n",
      "            The AnnData matrix of shape `n_obs` × `n_vars`.\n",
      "            Rows correspond to cells and columns to genes.\n",
      "    group_by : string (default: None)\n",
      "            ...\n",
      "    pct : flaot (default: 0.3)\n",
      "            ... \n",
      "    \n",
      "    Returns\n",
      "    -------\n",
      "    adata : anndata.AnnData\n",
      "            The AnnData without ... genes.\n",
      "\n"
     ]
    }
   ],
   "source": [
    "help(sm.remove_features_pct)"
   ]
  },
  {
   "cell_type": "code",
   "execution_count": null,
   "metadata": {},
   "outputs": [],
   "source": [
    "sys.path.append(\"/home/ubuntu/Taneda/Functions\")\n",
    "from scRNA_functions import scRNA_functions\n",
    "\n",
    "fc = scRNA_functions()"
   ]
  },
  {
   "cell_type": "code",
   "execution_count": null,
   "metadata": {},
   "outputs": [],
   "source": []
  },
  {
   "cell_type": "code",
   "execution_count": null,
   "metadata": {},
   "outputs": [],
   "source": []
  },
  {
   "cell_type": "code",
   "execution_count": null,
   "metadata": {},
   "outputs": [],
   "source": []
  },
  {
   "cell_type": "markdown",
   "metadata": {},
   "source": [
    "# Loading annData object"
   ]
  },
  {
   "cell_type": "code",
   "execution_count": null,
   "metadata": {},
   "outputs": [],
   "source": [
    "obj = sc.datasets.paul15()"
   ]
  },
  {
   "cell_type": "code",
   "execution_count": null,
   "metadata": {},
   "outputs": [],
   "source": [
    "print(\"%d genes across %s cells\"%(obj.n_vars, obj.n_obs))"
   ]
  },
  {
   "cell_type": "code",
   "execution_count": null,
   "metadata": {
    "scrolled": true
   },
   "outputs": [],
   "source": [
    "dict_annotation = {}\n",
    "\n",
    "dict_annotation['1Ery']='Ery'\n",
    "dict_annotation['2Ery']='Ery'\n",
    "dict_annotation['3Ery']='Ery'\n",
    "dict_annotation['4Ery']='Ery'\n",
    "dict_annotation['5Ery']='Ery'\n",
    "dict_annotation['6Ery']='Ery'\n",
    "dict_annotation['7MEP']='MEP'\n",
    "dict_annotation['8Mk']='Mk'\n",
    "dict_annotation['9GMP']='GMP'\n",
    "dict_annotation['10GMP']='GMP'\n",
    "dict_annotation['11DC']='DC'\n",
    "dict_annotation['12Baso']='Baso'\n",
    "dict_annotation['13Baso']='Baso'\n",
    "dict_annotation['14Mo']='Mo'\n",
    "dict_annotation['15Mo']='Mo'\n",
    "dict_annotation['16Neu']='Neu'\n",
    "dict_annotation['17Neu']='Neu'\n",
    "dict_annotation['18Eos']='Eos'\n",
    "dict_annotation['19Lymph']='Lymph'\n",
    "\n",
    "annotation = []\n",
    "for celltype in obj.obs[\"paul15_clusters\"].tolist():\n",
    "    annotation.append(dict_annotation[celltype])\n",
    "\n",
    "obj.obs['annotation'] = annotation\n",
    "obj.obs['annotation'] = obj.obs['annotation'].astype(\"category\")"
   ]
  },
  {
   "cell_type": "code",
   "execution_count": null,
   "metadata": {},
   "outputs": [],
   "source": []
  },
  {
   "cell_type": "code",
   "execution_count": null,
   "metadata": {},
   "outputs": [],
   "source": []
  },
  {
   "cell_type": "code",
   "execution_count": null,
   "metadata": {},
   "outputs": [],
   "source": []
  },
  {
   "cell_type": "markdown",
   "metadata": {},
   "source": [
    "#### Data preparation"
   ]
  },
  {
   "cell_type": "code",
   "execution_count": null,
   "metadata": {},
   "outputs": [],
   "source": [
    "sf.data_preparation(obj)"
   ]
  },
  {
   "cell_type": "code",
   "execution_count": null,
   "metadata": {},
   "outputs": [],
   "source": []
  },
  {
   "cell_type": "code",
   "execution_count": null,
   "metadata": {},
   "outputs": [],
   "source": []
  },
  {
   "cell_type": "code",
   "execution_count": null,
   "metadata": {},
   "outputs": [],
   "source": []
  },
  {
   "cell_type": "markdown",
   "metadata": {},
   "source": [
    "#### Removing general genes"
   ]
  },
  {
   "cell_type": "code",
   "execution_count": null,
   "metadata": {},
   "outputs": [],
   "source": [
    "s1 = time.time()"
   ]
  },
  {
   "cell_type": "code",
   "execution_count": null,
   "metadata": {},
   "outputs": [],
   "source": [
    "obj = sf.remove_general_genes(obj)"
   ]
  },
  {
   "cell_type": "markdown",
   "metadata": {},
   "source": [
    "#### Removing house-keeping genes\n",
    "\n",
    "http://www.housekeeping.unicamp.br/?homePageGlobal"
   ]
  },
  {
   "cell_type": "code",
   "execution_count": null,
   "metadata": {},
   "outputs": [],
   "source": [
    "obj = sf.remove_housekeepingenes(obj, path=\"../../data/house_keeping_genes_Mouse_bone_marrow.txt\")\n",
    "obj = sf.remove_housekeepingenes(obj, path=\"../../data/house_keeping_genes_Mouse_HSC.txt\")"
   ]
  },
  {
   "cell_type": "markdown",
   "metadata": {},
   "source": [
    "#### Removing genes expressed in less than 30% within groups"
   ]
  },
  {
   "cell_type": "code",
   "execution_count": null,
   "metadata": {},
   "outputs": [],
   "source": [
    "obj = sf.remove_features_pct(obj, group_by=\"annotation\", pct=0.3)"
   ]
  },
  {
   "cell_type": "markdown",
   "metadata": {},
   "source": [
    "#### Removing genes expressed in more than 50% in a given group where genes are expressed for more 75% within a given group"
   ]
  },
  {
   "cell_type": "code",
   "execution_count": null,
   "metadata": {},
   "outputs": [],
   "source": [
    "obj = sf.remove_features_pct_2groups(obj, group_by=\"annotation\", pct1=0.75, pct2=0.5)"
   ]
  },
  {
   "cell_type": "markdown",
   "metadata": {},
   "source": [
    "#### Revert PCA"
   ]
  },
  {
   "cell_type": "code",
   "execution_count": null,
   "metadata": {},
   "outputs": [],
   "source": [
    "obj = sf.scale_filter_features(obj, n_components=None, filter_expression=True)"
   ]
  },
  {
   "cell_type": "code",
   "execution_count": null,
   "metadata": {},
   "outputs": [],
   "source": []
  },
  {
   "cell_type": "code",
   "execution_count": null,
   "metadata": {},
   "outputs": [],
   "source": []
  },
  {
   "cell_type": "code",
   "execution_count": null,
   "metadata": {},
   "outputs": [],
   "source": []
  },
  {
   "cell_type": "markdown",
   "metadata": {},
   "source": [
    "#### DNN"
   ]
  },
  {
   "cell_type": "code",
   "execution_count": null,
   "metadata": {},
   "outputs": [],
   "source": [
    "s2 = time.time()"
   ]
  },
  {
   "cell_type": "code",
   "execution_count": null,
   "metadata": {
    "scrolled": false
   },
   "outputs": [],
   "source": [
    "sf.DNN(obj, group_by=\"annotation\", model=None, balance=True, verbose=True, save=False)"
   ]
  },
  {
   "cell_type": "markdown",
   "metadata": {},
   "source": [
    "#### Shap value"
   ]
  },
  {
   "cell_type": "code",
   "execution_count": null,
   "metadata": {},
   "outputs": [],
   "source": [
    "selectedGenes, selectedGenes_dict = sf.run_shap(obj, group_by=\"annotation\", model=None, verbose=True, pct=0.1, restrict_top=(\"local\", 20))"
   ]
  },
  {
   "cell_type": "code",
   "execution_count": null,
   "metadata": {},
   "outputs": [],
   "source": [
    "e2 = time.time()"
   ]
  },
  {
   "cell_type": "code",
   "execution_count": null,
   "metadata": {},
   "outputs": [],
   "source": []
  },
  {
   "cell_type": "code",
   "execution_count": null,
   "metadata": {},
   "outputs": [],
   "source": []
  },
  {
   "cell_type": "code",
   "execution_count": null,
   "metadata": {},
   "outputs": [],
   "source": []
  },
  {
   "cell_type": "markdown",
   "metadata": {},
   "source": [
    "#### Classifiers"
   ]
  },
  {
   "cell_type": "code",
   "execution_count": null,
   "metadata": {},
   "outputs": [],
   "source": [
    "sf.run_classifiers(obj, group_by=\"annotation\", genes=selectedGenes, classifier=\"KNN\", balance=True, title=\"DNN-KNN\", save=False)"
   ]
  },
  {
   "cell_type": "markdown",
   "metadata": {},
   "source": [
    "#### Sorting genes per cluster"
   ]
  },
  {
   "cell_type": "code",
   "execution_count": null,
   "metadata": {},
   "outputs": [],
   "source": [
    "axs, selectedGenes_top_dict = sf.sort_and_plot(obj, selectedGenes, group_by=\"annotation\", group_by2=None, top=4, figsize=(6,10))"
   ]
  },
  {
   "cell_type": "code",
   "execution_count": null,
   "metadata": {},
   "outputs": [],
   "source": [
    "e1 = time.time()"
   ]
  },
  {
   "cell_type": "code",
   "execution_count": null,
   "metadata": {},
   "outputs": [],
   "source": []
  },
  {
   "cell_type": "code",
   "execution_count": null,
   "metadata": {},
   "outputs": [],
   "source": []
  },
  {
   "cell_type": "code",
   "execution_count": null,
   "metadata": {},
   "outputs": [],
   "source": []
  },
  {
   "cell_type": "markdown",
   "metadata": {},
   "source": [
    "# Elapsed time"
   ]
  },
  {
   "cell_type": "code",
   "execution_count": null,
   "metadata": {},
   "outputs": [],
   "source": [
    "print(\"%d genes across %s cells\"%(obj.n_vars, obj.n_obs))"
   ]
  },
  {
   "cell_type": "code",
   "execution_count": null,
   "metadata": {},
   "outputs": [],
   "source": [
    "print('Elapsed time (s): ', e1-s1)"
   ]
  },
  {
   "cell_type": "code",
   "execution_count": null,
   "metadata": {},
   "outputs": [],
   "source": [
    "print('Elapsed time (s): ', e2-s2)"
   ]
  },
  {
   "cell_type": "code",
   "execution_count": null,
   "metadata": {},
   "outputs": [],
   "source": []
  },
  {
   "cell_type": "code",
   "execution_count": null,
   "metadata": {},
   "outputs": [],
   "source": []
  },
  {
   "cell_type": "code",
   "execution_count": null,
   "metadata": {},
   "outputs": [],
   "source": []
  }
 ],
 "metadata": {
  "kernelspec": {
   "display_name": "Python 3",
   "language": "python",
   "name": "python3"
  },
  "language_info": {
   "codemirror_mode": {
    "name": "ipython",
    "version": 3
   },
   "file_extension": ".py",
   "mimetype": "text/x-python",
   "name": "python",
   "nbconvert_exporter": "python",
   "pygments_lexer": "ipython3",
   "version": "3.8.5"
  }
 },
 "nbformat": 4,
 "nbformat_minor": 4
}
